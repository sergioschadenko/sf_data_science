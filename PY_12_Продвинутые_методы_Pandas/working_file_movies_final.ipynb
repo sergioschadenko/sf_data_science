{
 "cells": [
  {
   "cell_type": "code",
   "execution_count": 1,
   "metadata": {},
   "outputs": [],
   "source": [
    "import pandas as pd\n",
    "\n",
    "movies = pd.read_csv(\"data/ratings_movies.csv\")"
   ]
  },
  {
   "cell_type": "code",
   "execution_count": 3,
   "metadata": {},
   "outputs": [],
   "source": [
    "#библиотека для регулярных выражений\n",
    "import re \n",
    "\n",
    "def get_year_release(arg):\n",
    "    #находим все слова по шаблону \"(DDDD)\"\n",
    "    candidates = re.findall(r'\\(\\d{4}\\)', arg) \n",
    "    # проверяем число вхождений\n",
    "    if len(candidates) > 0:\n",
    "        #если число вхождений больше 0,\n",
    "\t#очищаем строку от знаков \"(\" и \")\"\n",
    "        year = candidates[0].replace('(', '')\n",
    "        year = year.replace(')', '')\n",
    "        return int(year)\n",
    "    else:\n",
    "        #если год не указан, возвращаем None\n",
    "        return None"
   ]
  },
  {
   "cell_type": "code",
   "execution_count": 4,
   "metadata": {},
   "outputs": [
    {
     "name": "stdout",
     "output_type": "stream",
     "text": [
      "<class 'pandas.core.frame.DataFrame'>\n",
      "RangeIndex: 100836 entries, 0 to 100835\n",
      "Data columns (total 7 columns):\n",
      " #   Column      Non-Null Count   Dtype  \n",
      "---  ------      --------------   -----  \n",
      " 0   Unnamed: 0  100836 non-null  int64  \n",
      " 1   userId      100836 non-null  int64  \n",
      " 2   movieId     100836 non-null  int64  \n",
      " 3   rating      100836 non-null  float64\n",
      " 4   date        100836 non-null  object \n",
      " 5   title       100836 non-null  object \n",
      " 6   genres      100836 non-null  object \n",
      "dtypes: float64(1), int64(3), object(3)\n",
      "memory usage: 5.4+ MB\n"
     ]
    }
   ],
   "source": [
    "movies.info()"
   ]
  },
  {
   "cell_type": "code",
   "execution_count": 10,
   "metadata": {},
   "outputs": [],
   "source": [
    "movies[\"year release\"] = movies[\"title\"].apply(get_year_release)"
   ]
  },
  {
   "cell_type": "code",
   "execution_count": 13,
   "metadata": {},
   "outputs": [
    {
     "data": {
      "text/plain": [
       "18"
      ]
     },
     "execution_count": 13,
     "metadata": {},
     "output_type": "execute_result"
    }
   ],
   "source": [
    "movies[\"year release\"].isnull().sum()"
   ]
  },
  {
   "cell_type": "code",
   "execution_count": 42,
   "metadata": {},
   "outputs": [
    {
     "data": {
      "text/plain": [
       "title\n",
       "Bloodsport: The Dark Kumite (1999)            0.5\n",
       "Simon Sez (1999)                              1.0\n",
       "Chill Factor (1999)                           1.0\n",
       "Source, The (1999)                            1.0\n",
       "Trippin' (1999)                               1.0\n",
       "                                             ... \n",
       "Trailer Park Boys (1999)                      5.0\n",
       "Larry David: Curb Your Enthusiasm (1999)      5.0\n",
       "Sun Alley (Sonnenallee) (1999)                5.0\n",
       "George Carlin: You Are All Diseased (1999)    5.0\n",
       "Five Senses, The (1999)                       5.0\n",
       "Name: rating, Length: 261, dtype: float64"
      ]
     },
     "execution_count": 42,
     "metadata": {},
     "output_type": "execute_result"
    }
   ],
   "source": [
    "mask = (movies[\"year release\"] == 1999.0)\n",
    "movies[mask].groupby(by=\"title\")[\"rating\"].mean().sort_values()"
   ]
  },
  {
   "cell_type": "code",
   "execution_count": 39,
   "metadata": {},
   "outputs": [
    {
     "data": {
      "text/plain": [
       "genres\n",
       "Action|Sci-Fi                        1.000000\n",
       "Action|Adventure|Horror              1.500000\n",
       "Action|Drama|Fantasy                 1.500000\n",
       "Crime|Romance                        1.500000\n",
       "Adventure|Comedy|Fantasy             1.833333\n",
       "                                       ...   \n",
       "Crime                                4.750000\n",
       "Comedy|Musical                       5.000000\n",
       "Animation|Drama|Fantasy|Mystery      5.000000\n",
       "Adventure|Children|Comedy|Mystery    5.000000\n",
       "Animation|Children|Mystery           5.000000\n",
       "Name: rating, Length: 119, dtype: float64"
      ]
     },
     "execution_count": 39,
     "metadata": {},
     "output_type": "execute_result"
    }
   ],
   "source": [
    "mask = (movies[\"year release\"] == 2010.0)\n",
    "movies[mask].groupby(by=\"genres\")[\"rating\"].mean().sort_values()"
   ]
  },
  {
   "cell_type": "code",
   "execution_count": 45,
   "metadata": {},
   "outputs": [
    {
     "data": {
      "text/plain": [
       "userId\n",
       "214     13\n",
       "85      13\n",
       "245     13\n",
       "494     15\n",
       "578     15\n",
       "      ... \n",
       "474    395\n",
       "380    399\n",
       "448    403\n",
       "414    482\n",
       "599    524\n",
       "Name: genres, Length: 610, dtype: int64"
      ]
     },
     "execution_count": 45,
     "metadata": {},
     "output_type": "execute_result"
    }
   ],
   "source": [
    "movies.groupby(by=\"userId\")[\"genres\"].nunique().sort_values()"
   ]
  },
  {
   "cell_type": "code",
   "execution_count": 52,
   "metadata": {},
   "outputs": [
    {
     "data": {
      "text/html": [
       "<div>\n",
       "<style scoped>\n",
       "    .dataframe tbody tr th:only-of-type {\n",
       "        vertical-align: middle;\n",
       "    }\n",
       "\n",
       "    .dataframe tbody tr th {\n",
       "        vertical-align: top;\n",
       "    }\n",
       "\n",
       "    .dataframe thead th {\n",
       "        text-align: right;\n",
       "    }\n",
       "</style>\n",
       "<table border=\"1\" class=\"dataframe\">\n",
       "  <thead>\n",
       "    <tr style=\"text-align: right;\">\n",
       "      <th></th>\n",
       "      <th>mean</th>\n",
       "      <th>count</th>\n",
       "    </tr>\n",
       "    <tr>\n",
       "      <th>userId</th>\n",
       "      <th></th>\n",
       "      <th></th>\n",
       "    </tr>\n",
       "  </thead>\n",
       "  <tbody>\n",
       "    <tr>\n",
       "      <th>53</th>\n",
       "      <td>5.000000</td>\n",
       "      <td>20</td>\n",
       "    </tr>\n",
       "    <tr>\n",
       "      <th>595</th>\n",
       "      <td>4.200000</td>\n",
       "      <td>20</td>\n",
       "    </tr>\n",
       "    <tr>\n",
       "      <th>189</th>\n",
       "      <td>4.100000</td>\n",
       "      <td>20</td>\n",
       "    </tr>\n",
       "    <tr>\n",
       "      <th>569</th>\n",
       "      <td>4.000000</td>\n",
       "      <td>20</td>\n",
       "    </tr>\n",
       "    <tr>\n",
       "      <th>278</th>\n",
       "      <td>3.875000</td>\n",
       "      <td>20</td>\n",
       "    </tr>\n",
       "    <tr>\n",
       "      <th>...</th>\n",
       "      <td>...</td>\n",
       "      <td>...</td>\n",
       "    </tr>\n",
       "    <tr>\n",
       "      <th>274</th>\n",
       "      <td>3.235884</td>\n",
       "      <td>1346</td>\n",
       "    </tr>\n",
       "    <tr>\n",
       "      <th>448</th>\n",
       "      <td>2.847371</td>\n",
       "      <td>1864</td>\n",
       "    </tr>\n",
       "    <tr>\n",
       "      <th>474</th>\n",
       "      <td>3.398956</td>\n",
       "      <td>2108</td>\n",
       "    </tr>\n",
       "    <tr>\n",
       "      <th>599</th>\n",
       "      <td>2.642050</td>\n",
       "      <td>2478</td>\n",
       "    </tr>\n",
       "    <tr>\n",
       "      <th>414</th>\n",
       "      <td>3.391957</td>\n",
       "      <td>2698</td>\n",
       "    </tr>\n",
       "  </tbody>\n",
       "</table>\n",
       "<p>610 rows × 2 columns</p>\n",
       "</div>"
      ],
      "text/plain": [
       "            mean  count\n",
       "userId                 \n",
       "53      5.000000     20\n",
       "595     4.200000     20\n",
       "189     4.100000     20\n",
       "569     4.000000     20\n",
       "278     3.875000     20\n",
       "...          ...    ...\n",
       "274     3.235884   1346\n",
       "448     2.847371   1864\n",
       "474     3.398956   2108\n",
       "599     2.642050   2478\n",
       "414     3.391957   2698\n",
       "\n",
       "[610 rows x 2 columns]"
      ]
     },
     "execution_count": 52,
     "metadata": {},
     "output_type": "execute_result"
    }
   ],
   "source": [
    "movies.groupby(by=\"userId\")[\"rating\"].agg([\"mean\", \"count\"]).sort_values(by=[\"count\", \"mean\"], ascending=[True, False])"
   ]
  },
  {
   "cell_type": "code",
   "execution_count": 60,
   "metadata": {},
   "outputs": [
    {
     "data": {
      "text/html": [
       "<div>\n",
       "<style scoped>\n",
       "    .dataframe tbody tr th:only-of-type {\n",
       "        vertical-align: middle;\n",
       "    }\n",
       "\n",
       "    .dataframe tbody tr th {\n",
       "        vertical-align: top;\n",
       "    }\n",
       "\n",
       "    .dataframe thead th {\n",
       "        text-align: right;\n",
       "    }\n",
       "</style>\n",
       "<table border=\"1\" class=\"dataframe\">\n",
       "  <thead>\n",
       "    <tr style=\"text-align: right;\">\n",
       "      <th></th>\n",
       "      <th>mean</th>\n",
       "      <th>count</th>\n",
       "    </tr>\n",
       "    <tr>\n",
       "      <th>genres</th>\n",
       "      <th></th>\n",
       "      <th></th>\n",
       "    </tr>\n",
       "  </thead>\n",
       "  <tbody>\n",
       "    <tr>\n",
       "      <th>Action|Adventure|Sci-Fi</th>\n",
       "      <td>3.928571</td>\n",
       "      <td>14</td>\n",
       "    </tr>\n",
       "    <tr>\n",
       "      <th>Action|Comedy|Sci-Fi</th>\n",
       "      <td>3.875000</td>\n",
       "      <td>12</td>\n",
       "    </tr>\n",
       "  </tbody>\n",
       "</table>\n",
       "</div>"
      ],
      "text/plain": [
       "                             mean  count\n",
       "genres                                  \n",
       "Action|Adventure|Sci-Fi  3.928571     14\n",
       "Action|Comedy|Sci-Fi     3.875000     12"
      ]
     },
     "execution_count": 60,
     "metadata": {},
     "output_type": "execute_result"
    }
   ],
   "source": [
    "mask1 = (movies[\"year release\"] == 2018.0)\n",
    "movies_2018 = movies[mask1].groupby(by=\"genres\")[\"rating\"].agg([\"mean\",\"count\"])\n",
    "movies_2018[movies_2018[\"count\"] > 10]"
   ]
  },
  {
   "cell_type": "code",
   "execution_count": 61,
   "metadata": {},
   "outputs": [],
   "source": [
    "movies[\"year_rating\"] = pd.to_datetime(movies[\"date\"]).dt.year"
   ]
  },
  {
   "cell_type": "code",
   "execution_count": 75,
   "metadata": {},
   "outputs": [
    {
     "data": {
      "text/plain": [
       "year_rating\n",
       "1996    3.228571\n",
       "1997    3.409091\n",
       "1998    3.000000\n",
       "1999    3.606061\n",
       "2000    3.141291\n",
       "2001    3.318408\n",
       "2002    3.198556\n",
       "2003    3.120066\n",
       "2004    3.356877\n",
       "2005    2.963325\n",
       "2006    3.347534\n",
       "2007    2.928187\n",
       "2008    3.426667\n",
       "2009    3.273292\n",
       "2010    3.179825\n",
       "2011    3.232877\n",
       "2012    3.478477\n",
       "2013    3.489474\n",
       "2014    3.271429\n",
       "2015    3.106183\n",
       "2016    3.373431\n",
       "2017    2.852668\n",
       "2018    3.121296\n",
       "Name: Comedy, dtype: float64"
      ]
     },
     "execution_count": 75,
     "metadata": {},
     "output_type": "execute_result"
    }
   ],
   "source": [
    "pivot_table_movies = movies.pivot_table(\n",
    "    values=\"rating\",\n",
    "    index=\"year_rating\",\n",
    "    columns=\"genres\",\n",
    "    aggfunc=\"mean\",\n",
    "    fill_value=0\n",
    ")\n",
    "pivot_table_movies[\"Comedy\"]"
   ]
  }
 ],
 "metadata": {
  "kernelspec": {
   "display_name": "Python 3.10.6 64-bit",
   "language": "python",
   "name": "python3"
  },
  "language_info": {
   "codemirror_mode": {
    "name": "ipython",
    "version": 3
   },
   "file_extension": ".py",
   "mimetype": "text/x-python",
   "name": "python",
   "nbconvert_exporter": "python",
   "pygments_lexer": "ipython3",
   "version": "3.10.6"
  },
  "orig_nbformat": 4,
  "vscode": {
   "interpreter": {
    "hash": "88b9a773f538854b9c5aba371cb4fd04c5e8fddb6df5fdb75d4dd3705bdd2b2a"
   }
  }
 },
 "nbformat": 4,
 "nbformat_minor": 2
}
